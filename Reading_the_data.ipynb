{
 "cells": [
  {
   "cell_type": "markdown",
   "id": "87cd9bef",
   "metadata": {},
   "source": [
    "### Reading the data\n",
    "\n",
    "In this notebook we will inspect the digitized data, both data and MC, and also the geometry.\n",
    "Lets start off with a data file. We will be using ROOT. \n",
    "\n",
    "The path+filename is: /eos/experiment/sndlhc/convertedData/physics/2022/run_004705/sndsw_raw-0010.root "
   ]
  },
  {
   "cell_type": "code",
   "execution_count": null,
   "id": "b2ad1aca",
   "metadata": {},
   "outputs": [],
   "source": [
    "import ROOT"
   ]
  },
  {
   "cell_type": "code",
   "execution_count": null,
   "id": "8d72d25c",
   "metadata": {},
   "outputs": [],
   "source": [
    "file = ROOT.TFile(\"/eos/experiment/sndlhc/convertedData/physics/2022/run_004705/sndsw_raw-0010.root\")\n",
    "tree = file.rawConv\n",
    "tree.GetEntries()"
   ]
  },
  {
   "cell_type": "markdown",
   "id": "af0dbd71",
   "metadata": {},
   "source": [
    "To print the branch content of the TTree:"
   ]
  },
  {
   "cell_type": "code",
   "execution_count": null,
   "id": "263a6fef",
   "metadata": {},
   "outputs": [],
   "source": [
    "tree.Print()"
   ]
  },
  {
   "cell_type": "code",
   "execution_count": null,
   "id": "772fdba6",
   "metadata": {},
   "outputs": [],
   "source": [
    "tree.GetEvent(0) # get the first event in the file - this command reads the index in the file\n",
    "tree.EventHeader.GetEventNumber()"
   ]
  },
  {
   "cell_type": "markdown",
   "id": "c7c4d438",
   "metadata": {},
   "source": [
    "Remember we opened partition number 10, so the 1st event there is actually the 10th M event for the run - the event counter doesn't reset with partitions! \n",
    "The index in the ROOT file however, does reset."
   ]
  },
  {
   "cell_type": "code",
   "execution_count": null,
   "id": "56ca1c88",
   "metadata": {},
   "outputs": [],
   "source": [
    "tree.EventHeader.GetFillNumber()"
   ]
  },
  {
   "cell_type": "markdown",
   "id": "5a12137e",
   "metadata": {},
   "source": [
    "The fill number can be used to check out fill infomration from the LHC supertables: https://bpt.web.cern.ch/lhc/supertable/2023/static_lhc_supertable.html"
   ]
  },
  {
   "cell_type": "code",
   "execution_count": null,
   "id": "2c1308d1",
   "metadata": {},
   "outputs": [],
   "source": [
    "tree.GetEvent(7)\n",
    "tree.EventHeader.GetEventNumber()"
   ]
  },
  {
   "cell_type": "code",
   "execution_count": null,
   "id": "ca53de97",
   "metadata": {},
   "outputs": [],
   "source": [
    "tree.Digi_MuFilterHits.GetEntries()"
   ]
  },
  {
   "cell_type": "code",
   "execution_count": null,
   "id": "aa3502a9",
   "metadata": {},
   "outputs": [],
   "source": [
    "tree.Digi_MuFilterHits.Dump()"
   ]
  },
  {
   "cell_type": "markdown",
   "id": "12cc3bde",
   "metadata": {},
   "source": [
    "Get the MuFi system, plane and orientation.\n",
    "\n",
    "system name = numbering in GetSystem()\n",
    "\n",
    "### Veto = 1\n",
    "\n",
    "### US = 2\n",
    "\n",
    "### DS = 3\n",
    "\n",
    "We will have to work a bit more to get the bar number :-D"
   ]
  },
  {
   "cell_type": "code",
   "execution_count": null,
   "id": "c13865b5",
   "metadata": {
    "scrolled": true
   },
   "outputs": [],
   "source": [
    "for aHit in tree.Digi_MuFilterHits: # loop over hits\n",
    "    print(aHit.GetSystem(), aHit.GetDetectorID(), aHit.GetPlane(), aHit.isVertical(), aHit.GetDetectorID()%1000)"
   ]
  },
  {
   "cell_type": "markdown",
   "id": "41252529",
   "metadata": {},
   "source": [
    "The plane numbering in the sndsw starts from 0! So does the bar count!\n",
    "\n",
    "\n",
    "Lets read out the hardware information from the hits - the tofpet_id, tofpet_channel, the board_id, etc."
   ]
  },
  {
   "cell_type": "code",
   "execution_count": null,
   "id": "c380f9c1",
   "metadata": {},
   "outputs": [],
   "source": [
    "for aHit in tree.Digi_MuFilterHits: # loop over MuFilter hits\n",
    "    # loop over all channels per bar\n",
    "    for side in range(aHit.GetnSides()): # loop over sides - left/right or top\n",
    "        for channel in range(aHit.GetnSiPMs()): # loop over channels per side\n",
    "            ch = 8*side + channel\n",
    "            print(aHit.GetBoardID(ch), aHit.GetTofpetID(ch), aHit.Getchannel(ch), aHit.GetSystem(), aHit.GetDetectorID(),side, channel)\n",
    "            #print(aHit.GetBoardID(ch), aHit.GetTofpetID(ch), aHit.Getchannel(ch), round(aHit.GetSignal(ch),2), aHit.GetSystem(), aHit.GetDetectorID(),aHit.isVertical(), side, channel)"
   ]
  },
  {
   "cell_type": "markdown",
   "id": "45cef899",
   "metadata": {},
   "source": [
    "The channel numbering in the sndsw starts from 0!\n",
    "The default value for QDC per channel is -999! What happens is: if at least 1 SiPM fires, a hit is created with all other channels assigned QDC=-999. \n",
    "If another SiPM of the same bar fires, its QDC is recorded in place of the default -999.\n",
    "In TI18 data most recorded events are passing muons and the small SiPMs are unlikely to fire.\n",
    "\n",
    "Lets read out some SciFi hits info:"
   ]
  },
  {
   "cell_type": "code",
   "execution_count": null,
   "id": "d1b0b9dc",
   "metadata": {
    "scrolled": true
   },
   "outputs": [],
   "source": [
    "for aHit in tree.Digi_ScifiHits: # loop over SciFi hits\n",
    "    print(aHit.GetStation(), aHit.GetMat(), aHit.GetSiPM(), aHit.GetSiPMChan(), aHit.GetChannelID(), aHit.GetDetectorID(), round(aHit.GetSignal(),2))"
   ]
  },
  {
   "cell_type": "markdown",
   "id": "4e2574cf",
   "metadata": {},
   "source": [
    " Here comes our pain: negative QDC per MIP (mostly muons in TI18 data)."
   ]
  },
  {
   "cell_type": "markdown",
   "id": "8457ec9b",
   "metadata": {},
   "source": [
    "### Reading the MC"
   ]
  },
  {
   "cell_type": "markdown",
   "id": "8a6272df",
   "metadata": {},
   "source": [
    " The path+filename is: /eos/experiment/sndlhc/MonteCarlo/MuonBackground/muons_down/scoring_1.8_Bfield/sndLHC.Ntuple-TGeant4-160urad_magfield_2022TCL6_muons_rock_5e7pr_digCPP.root"
   ]
  },
  {
   "cell_type": "code",
   "execution_count": null,
   "id": "2192031b",
   "metadata": {},
   "outputs": [],
   "source": [
    "file_mc = ROOT.TFile(\"/eos/experiment/sndlhc/MonteCarlo/MuonBackground/muons_down/scoring_1.8_Bfield/sndLHC.Ntuple-TGeant4-160urad_magfield_2022TCL6_muons_rock_5e7pr_digCPP.root\")\n",
    "tree_mc = file_mc.cbmsim\n",
    "tree_mc.GetEntries()"
   ]
  },
  {
   "cell_type": "code",
   "execution_count": null,
   "id": "7f22db6a",
   "metadata": {},
   "outputs": [],
   "source": [
    "tree_mc.Print()"
   ]
  },
  {
   "cell_type": "code",
   "execution_count": null,
   "id": "abb60e7b",
   "metadata": {},
   "outputs": [],
   "source": [
    "tree_mc.GetEvent(0) # get event at index 0\n",
    "tree_mc.EventHeader.GetEventNumber() # get its event number"
   ]
  },
  {
   "cell_type": "markdown",
   "id": "6307b058",
   "metadata": {},
   "source": [
    "### There is a #1 mismatch btw index and event number in the MC!"
   ]
  },
  {
   "cell_type": "code",
   "execution_count": null,
   "id": "9bb4492d",
   "metadata": {},
   "outputs": [],
   "source": [
    "tree_mc.GetEvent(90)\n",
    "# make the output easier to grasp - decoration is important!\n",
    "from decorators import *\n",
    "tree_mc.MCTrack.Dump()"
   ]
  },
  {
   "cell_type": "markdown",
   "id": "7c88936b",
   "metadata": {},
   "source": [
    " Lets inspect the MC Points:"
   ]
  },
  {
   "cell_type": "code",
   "execution_count": null,
   "id": "7044748e",
   "metadata": {},
   "outputs": [],
   "source": [
    "for aPoint in tree_mc.ScifiPoint:\n",
    "    aPoint.Dump() # one entry at a time so no beautifying"
   ]
  },
  {
   "cell_type": "markdown",
   "id": "c8b30fc3",
   "metadata": {},
   "source": [
    "Lets check out the energy loss in preferred units:"
   ]
  },
  {
   "cell_type": "code",
   "execution_count": null,
   "id": "d6bb8e87",
   "metadata": {},
   "outputs": [],
   "source": [
    "import shipunit as u # the units module\n",
    "for aPoint in tree_mc.ScifiPoint:\n",
    "    if aPoint.GetTrackID() == -2:\n",
    "        print(aPoint.GetEnergyLoss()/u.keV, aPoint.GetEnergyLoss()/u.eV) # printing in [keV] and [eV] for comparison"
   ]
  },
  {
   "cell_type": "markdown",
   "id": "615a7e14",
   "metadata": {},
   "source": [
    "#### Particles below a preset Ecut do not have associated MCTracks (TrackID=-2 is dummy), but these particles are still propagated and their MCPoints recorded thus used to make Digi_hits\n",
    "Lets check if that is true!\n",
    "To do so, we will access the list of MC points used to generate digitized hits."
   ]
  },
  {
   "cell_type": "code",
   "execution_count": null,
   "id": "b9779966",
   "metadata": {},
   "outputs": [],
   "source": [
    "istrue = False\n",
    "for aHit in tree_mc.Digi_ScifiHits: # loop over digi hits\n",
    "    # loop over mc points used to make the digi hit using the unique ID == detID\n",
    "    for mc_point_i, _ in tree_mc.Digi_ScifiHits2MCPoints[0].wList(aHit.GetDetectorID()) : \n",
    "            #ask if the track id for the point is -2   \n",
    "            if tree_mc.ScifiPoint[mc_point_i].GetTrackID()==-2:\n",
    "                istrue = True\n",
    "                break\n",
    "    if istrue:\n",
    "        break\n",
    "print(istrue)    "
   ]
  },
  {
   "cell_type": "markdown",
   "id": "8b39bc1b",
   "metadata": {},
   "source": [
    "### Lets read some geofile\n",
    "The geofile + path is /eos/experiment/sndlhc/convertedData/physics/2023/geofile_sndlhc_TI18_V3_2023.root"
   ]
  },
  {
   "cell_type": "code",
   "execution_count": null,
   "id": "52faf7cb",
   "metadata": {},
   "outputs": [],
   "source": [
    "import SndlhcGeo\n",
    "geo = SndlhcGeo.GeoInterface(\"/eos/experiment/sndlhc/convertedData/physics/2023/geofile_sndlhc_TI18_V3_2023.root\")\n",
    "Scifi = geo.modules['Scifi']\n",
    "MuFi = geo.modules['MuFilter']"
   ]
  },
  {
   "cell_type": "code",
   "execution_count": null,
   "id": "83348d2e",
   "metadata": {},
   "outputs": [],
   "source": [
    "Scifi.Dump()"
   ]
  },
  {
   "cell_type": "markdown",
   "id": "d62dc2eb",
   "metadata": {},
   "source": [
    "Reading the geo parameters: example reading the speed of light in the fibers"
   ]
  },
  {
   "cell_type": "code",
   "execution_count": null,
   "id": "5488208b",
   "metadata": {},
   "outputs": [],
   "source": [
    "Scifi.GetConfParF('Scifi/signalSpeed') # reading the detector object"
   ]
  },
  {
   "cell_type": "code",
   "execution_count": null,
   "id": "dd800180",
   "metadata": {},
   "outputs": [],
   "source": [
    "geo.snd_geo['Scifi']['signalSpeed'] # reading the geo as a dictionaty"
   ]
  },
  {
   "cell_type": "markdown",
   "id": "e60fce12",
   "metadata": {},
   "source": [
    "One can also read as a dictionary with key-value pairs: example relative mat alignment parameter \"LocM100\""
   ]
  },
  {
   "cell_type": "code",
   "execution_count": null,
   "id": "5706dac3",
   "metadata": {},
   "outputs": [],
   "source": [
    "#geo.snd_geo['Scifi'].keys()\n",
    "for key in geo.snd_geo['Scifi'].keys():\n",
    "    if 'LocM100' in key:\n",
    "        print(key)"
   ]
  },
  {
   "cell_type": "markdown",
   "id": "c6ba198d",
   "metadata": {},
   "source": [
    "Lets compare the values for two different tags:"
   ]
  },
  {
   "cell_type": "code",
   "execution_count": null,
   "id": "caf76e2b",
   "metadata": {
    "scrolled": true
   },
   "outputs": [],
   "source": [
    "print(Scifi.GetConfParF('Scifi/LocM100t_4575'))\n",
    "print(Scifi.GetConfParF('Scifi/LocM100t_6305'))"
   ]
  },
  {
   "cell_type": "markdown",
   "id": "3f2cea1b",
   "metadata": {},
   "source": [
    "Lets get the coordinates of a hit - it means getting the coordinates of the sensitive volume that registerred the hit\n",
    "For Scifi the function is called GetSiPMPosition, but for MuFilter it is GetPosition."
   ]
  },
  {
   "cell_type": "code",
   "execution_count": null,
   "id": "a5b0d2e5",
   "metadata": {
    "scrolled": true
   },
   "outputs": [],
   "source": [
    "A, B = ROOT.TVector3(), ROOT.TVector3()\n",
    "for i, aHit in enumerate(tree.Digi_ScifiHits):\n",
    "    Scifi.GetSiPMPosition(aHit.GetDetectorID(),A,B)\n",
    "    A.Print()# left\n",
    "    B.Print()# right\n",
    "    if i==0: \n",
    "        break # only print the a few hits for simplicity of the output"
   ]
  },
  {
   "cell_type": "markdown",
   "id": "dfc42a4f",
   "metadata": {},
   "source": [
    "Wait a bit... did we forget something here?\n",
    "\n",
    "Any suggestions what else to try?"
   ]
  }
 ],
 "metadata": {
  "@webio": {
   "lastCommId": null,
   "lastKernelId": null
  },
  "kernelspec": {
   "display_name": "Python 3",
   "language": "python",
   "name": "python3"
  },
  "language_info": {
   "codemirror_mode": {
    "name": "ipython",
    "version": 3
   },
   "file_extension": ".py",
   "mimetype": "text/x-python",
   "name": "python",
   "nbconvert_exporter": "python",
   "pygments_lexer": "ipython3",
   "version": "3.8.12"
  }
 },
 "nbformat": 4,
 "nbformat_minor": 5
}
