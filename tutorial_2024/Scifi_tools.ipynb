{
 "cells": [
  {
   "cell_type": "code",
   "execution_count": 1,
   "id": "c0c25322-1591-4930-b83a-f7198a6b7f47",
   "metadata": {},
   "outputs": [
    {
     "name": "stdout",
     "output_type": "stream",
     "text": [
      "Welcome to JupyROOT 6.28/04\n"
     ]
    }
   ],
   "source": [
    "import ROOT\n",
    "import os"
   ]
  },
  {
   "cell_type": "markdown",
   "id": "571174aa-b975-4198-8a20-27a83b8e4585",
   "metadata": {},
   "source": [
    "my comment"
   ]
  },
  {
   "cell_type": "code",
   "execution_count": 6,
   "id": "256f3f3f-5cce-4cd3-85cc-3d8c429b8d4f",
   "metadata": {},
   "outputs": [],
   "source": [
    "# load the header file\n",
    "ROOT.gInterpreter.ProcessLine('#include \"/eos/home-s/sii/testsw/sndsw/analysis/tools/sndSciFiTools.h\"')\n",
    "c = ROOT.TChain(\"rawConv\")\n",
    "c.Add(\"/eos/experiment/sndlhc/convertedData/physics/2024/run_245/run_009243/sndsw_raw-0010.root\")\n",
    "for event in c:\n",
    " if len(event.Digi_ScifiHits)>0: # checking there are scifi hits in the tree entry - otherwise one gets double free or corruption (out) error\n",
    "   s=event.Digi_ScifiHits\n",
    "   break"
   ]
  },
  {
   "cell_type": "code",
   "execution_count": 10,
   "id": "c9502bbe-3dd5-47ab-af02-7489b62d5a5a",
   "metadata": {},
   "outputs": [
    {
     "data": {
      "text/plain": [
       "6.25"
      ]
     },
     "execution_count": 10,
     "metadata": {},
     "output_type": "execute_result"
    }
   ],
   "source": [
    "ROOT.snd.analysis_tools.peakScifiTiming(s, 10,0,25.)"
   ]
  },
  {
   "cell_type": "code",
   "execution_count": 11,
   "id": "b8ead18e-8071-4682-9379-abbc1baa09ea",
   "metadata": {},
   "outputs": [
    {
     "data": {
      "text/plain": [
       "6"
      ]
     },
     "execution_count": 11,
     "metadata": {},
     "output_type": "execute_result"
    }
   ],
   "source": [
    "ROOT.snd.analysis_tools.findScifiStation(s, 20.)"
   ]
  },
  {
   "cell_type": "code",
   "execution_count": null,
   "id": "8b5c4c07-9a69-450f-badc-08db750206be",
   "metadata": {},
   "outputs": [],
   "source": []
  }
 ],
 "metadata": {
  "kernelspec": {
   "display_name": "Python 3",
   "language": "python",
   "name": "python3"
  },
  "language_info": {
   "codemirror_mode": {
    "name": "ipython",
    "version": 3
   },
   "file_extension": ".py",
   "mimetype": "text/x-python",
   "name": "python",
   "nbconvert_exporter": "python",
   "pygments_lexer": "ipython3",
   "version": "3.9.12"
  }
 },
 "nbformat": 4,
 "nbformat_minor": 5
}
