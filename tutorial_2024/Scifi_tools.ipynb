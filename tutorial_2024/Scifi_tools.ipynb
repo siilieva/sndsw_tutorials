{
 "cells": [
  {
   "cell_type": "code",
   "execution_count": 1,
   "id": "c0c25322-1591-4930-b83a-f7198a6b7f47",
   "metadata": {},
   "outputs": [
    {
     "name": "stdout",
     "output_type": "stream",
     "text": [
      "Welcome to JupyROOT 6.28/04\n"
     ]
    }
   ],
   "source": [
    "import ROOT\n",
    "import os"
   ]
  },
  {
   "cell_type": "code",
   "execution_count": 2,
   "id": "256f3f3f-5cce-4cd3-85cc-3d8c429b8d4f",
   "metadata": {},
   "outputs": [],
   "source": [
    "# load the header file\n",
    "ROOT.gInterpreter.ProcessLine('#include \"/eos/home-s/sii/testsw/sndsw/analysis/tools/sndSciFiTools.h\"')\n",
    "c = ROOT.TChain(\"rawConv\")\n",
    "c.Add(\"/eos/experiment/sndlhc/convertedData/physics/2022/run_004705/sndsw_raw-0010.root\")\n",
    "c.GetEntry(7)\n",
    "len(c.Digi_ScifiHits) # checking there are scifi hits in the tree entry - otherwise one gets double free or corruption (out) error\n",
    "s=c.Digi_ScifiHits"
   ]
  },
  {
   "cell_type": "code",
   "execution_count": 3,
   "id": "b8ead18e-8071-4682-9379-abbc1baa09ea",
   "metadata": {},
   "outputs": [
    {
     "data": {
      "text/plain": [
       "6"
      ]
     },
     "execution_count": 3,
     "metadata": {},
     "output_type": "execute_result"
    }
   ],
   "source": [
    "ROOT.snd.analysis_tools.findScifiStation(s, 20.)"
   ]
  },
  {
   "cell_type": "code",
   "execution_count": 4,
   "id": "aa7d8dbd-6e84-4329-a760-ce93326be136",
   "metadata": {},
   "outputs": [
    {
     "data": {
      "text/plain": [
       "0.019999999552965164"
      ]
     },
     "execution_count": 4,
     "metadata": {},
     "output_type": "execute_result"
    }
   ],
   "source": [
    "ROOT.snd.analysis_tools.peakScifiTiming(s, 100,0,4)"
   ]
  },
  {
   "cell_type": "code",
   "execution_count": null,
   "id": "8b5c4c07-9a69-450f-badc-08db750206be",
   "metadata": {},
   "outputs": [],
   "source": []
  }
 ],
 "metadata": {
  "kernelspec": {
   "display_name": "Python 3",
   "language": "python",
   "name": "python3"
  },
  "language_info": {
   "codemirror_mode": {
    "name": "ipython",
    "version": 3
   },
   "file_extension": ".py",
   "mimetype": "text/x-python",
   "name": "python",
   "nbconvert_exporter": "python",
   "pygments_lexer": "ipython3",
   "version": "3.9.12"
  }
 },
 "nbformat": 4,
 "nbformat_minor": 5
}
