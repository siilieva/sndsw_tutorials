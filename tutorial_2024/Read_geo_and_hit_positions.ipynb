{
 "cells": [
  {
   "cell_type": "code",
   "execution_count": null,
   "id": "9dfef022-cfbf-4c98-9f8c-174c2ebd0ef0",
   "metadata": {},
   "outputs": [],
   "source": [
    "import ROOT\n",
    "import SndlhcGeo\n",
    "import shipunit as u"
   ]
  },
  {
   "cell_type": "code",
   "execution_count": null,
   "id": "0d338fd7-082a-4855-b955-e60bf118df37",
   "metadata": {
    "scrolled": true
   },
   "outputs": [],
   "source": [
    "geo = SndlhcGeo.GeoInterface(\"/eos/experiment/sndlhc/convertedData/physics/2024/run_245/geofile_sndlhc_TI18_V5_2024.root\")"
   ]
  },
  {
   "cell_type": "markdown",
   "id": "00b52777-3c8e-43b6-b4c9-6586810898b2",
   "metadata": {},
   "source": [
    "The detector *objects* are accessible through the ROOT's ListOfGlobals."
   ]
  },
  {
   "cell_type": "code",
   "execution_count": null,
   "id": "2e934c57-eb87-4e9a-8696-f8e374245d9e",
   "metadata": {},
   "outputs": [],
   "source": [
    "lsOfGlobals = ROOT.gROOT.GetListOfGlobals()\n",
    "lsOfGlobals.FindObject('Scifi')\n",
    "lsOfGlobals.FindObject('MuFilter')"
   ]
  },
  {
   "cell_type": "markdown",
   "id": "665f374e-8a83-4866-90d0-06d5568c6ceb",
   "metadata": {},
   "source": [
    "SND detectors can be *read* as python dictionaries thanks to the SndlhcGeo module."
   ]
  },
  {
   "cell_type": "code",
   "execution_count": null,
   "id": "6db68b94-63ce-4e4e-a051-d79f9475e62c",
   "metadata": {},
   "outputs": [],
   "source": [
    "scifi = geo.snd_geo.Scifi\n",
    "mufi= geo.snd_geo.MuFilter"
   ]
  },
  {
   "cell_type": "code",
   "execution_count": null,
   "id": "b69759a8-3350-48ae-8b96-b7fa0dff62ce",
   "metadata": {},
   "outputs": [],
   "source": [
    "print(\"Size of a Veto3 bar {}, {}, {}\".format(mufi.Veto3BarX/u.cm, mufi.Veto3BarY/u.cm, mufi.Veto3BarZ/u.cm))"
   ]
  },
  {
   "cell_type": "markdown",
   "id": "726b2577-0680-49e2-94d1-b265396a34e5",
   "metadata": {},
   "source": [
    "Why is the Y coordinate the largest 46.0 cm?\n",
    "Which is the coordinate system, where dimensions are defined? \n",
    "The survey or the physics one?\n",
    "Physics coordinate system is used to store the detector attributes - sizes etc.\n",
    "Survey CS is used when measuring the detector positions, then the transformation from survey to the physics CS is applied in the sw!\n",
    "And the user doesn't have to make this transformation by hand."
   ]
  },
  {
   "cell_type": "markdown",
   "id": "8a591856-bdb7-4ed2-bc29-576c5449c88b",
   "metadata": {},
   "source": [
    "Inspect the contents of the detector objects, see what keys there exist.\n",
    "Keys featuring 4 digits( the run numbers) denote the spatial and time alignment constants!"
   ]
  },
  {
   "cell_type": "code",
   "execution_count": null,
   "id": "3ee3f4f7-6f6b-46ce-a0b6-93bd87ff5615",
   "metadata": {},
   "outputs": [],
   "source": [
    "scifi.keys()"
   ]
  },
  {
   "cell_type": "code",
   "execution_count": null,
   "id": "a5814ee4-b93c-40f9-a5b1-ffce9b913487",
   "metadata": {},
   "outputs": [],
   "source": [
    "scifi.Xpos0, scifi.Ypos0, scifi.Zpos0# survey CS"
   ]
  },
  {
   "cell_type": "code",
   "execution_count": null,
   "id": "ee6bd317-7256-436d-9e6c-b01a2f7f75db",
   "metadata": {},
   "outputs": [],
   "source": [
    "mufi.keys() # items in the MuFilter detector object"
   ]
  },
  {
   "cell_type": "code",
   "execution_count": null,
   "id": "aafe13a8-5163-49da-aae7-36c28f118dd3",
   "metadata": {},
   "outputs": [],
   "source": [
    "mufi.Muon1Dx, mufi.Muon1Dy, mufi.Muon1Dz # US1"
   ]
  },
  {
   "cell_type": "code",
   "execution_count": null,
   "id": "bb2bfe2f-9f38-4a91-bfc4-0599e8c8f0ad",
   "metadata": {},
   "outputs": [],
   "source": [
    "mufi.Muon9Dx, mufi.Muon9Dy, mufi.Muon9Dz #DS4"
   ]
  },
  {
   "cell_type": "markdown",
   "id": "54385aec-f22d-4ed5-a54c-77fdf9d487bc",
   "metadata": {},
   "source": [
    "Lets now see how to access the detector elements through the measurements  - hits or clusters"
   ]
  },
  {
   "cell_type": "code",
   "execution_count": null,
   "id": "638f3783-6b24-47d0-848f-6a3ad2bb368c",
   "metadata": {},
   "outputs": [],
   "source": [
    "f = ROOT.TFile(\"/eos/experiment/sndlhc/convertedData/physics/2024/run_245/run_009280/sndsw_raw-0010.root\")\n",
    "tree = f.rawConv\n",
    "# provide the event header to the detector object so to read the aligned geometry!\n",
    "tree.GetEvent(0)\n",
    "scifi_det=geo.modules['Scifi']\n",
    "mufi_det=geo.modules['MuFilter']\n",
    "scifi_det.InitEvent(tree.EventHeader)\n",
    "mufi_det.InitEvent(tree.EventHeader)\n",
    "# beware it is not scifi.InitEvent(tree.EventHeader)\n",
    "# as scifi is just a dictionary!\n",
    "\n",
    "A,B=ROOT.TVector3(),ROOT.TVector3()\n",
    "\n",
    "for i, event in enumerate(tree):\n",
    "    if i >10: continue\n",
    "    for aHit in event.Digi_ScifiHits:\n",
    "        scifi_det.GetSiPMPosition(aHit.GetDetectorID(),A,B) # A is left(top) side and the B right/bottom one\n",
    "        #GetSiPMPosition returns coordinates in the physics CS\n",
    "        #A.Print()\n",
    "    for aHit in event.Digi_MuFilterHits:\n",
    "        mufi_det.GetPosition(aHit.GetDetectorID(),A,B) # A is left(top) side and the B right/bottom one\n",
    "        A.Print()\n"
   ]
  },
  {
   "cell_type": "markdown",
   "id": "5ce4b89a-619b-45f9-8635-2754e01adea7",
   "metadata": {},
   "source": [
    "Add a task to make Scifi clusters and inspect their positions\n",
    "The task is actually the simple tracking (SndlhcTracking module)\n",
    "We need the FairRun"
   ]
  },
  {
   "cell_type": "code",
   "execution_count": null,
   "id": "ee61f979-0415-4b7f-aabc-9a859553f146",
   "metadata": {},
   "outputs": [],
   "source": [
    "mufi_det.GetPosition(30060, A,B)# bottom bar, left\n",
    "A.Print()\n",
    "B.Print()\n",
    "\n",
    "mufi_det.GetPosition(30119, A,B)# top bar, right\n",
    "A.Print()\n",
    "B.Print()"
   ]
  },
  {
   "cell_type": "code",
   "execution_count": null,
   "id": "07b3999d-bce0-4790-94ae-a68d5795d9ff",
   "metadata": {},
   "outputs": [],
   "source": [
    "import SndlhcTracking\n",
    "trackTask = SndlhcTracking.Tracking()"
   ]
  },
  {
   "cell_type": "code",
   "execution_count": null,
   "id": "b4fc59ec-63ce-4c96-bc5d-694e5380fd34",
   "metadata": {},
   "outputs": [],
   "source": [
    "run = ROOT.FairRunAna()\n",
    "# Input/output manager\n",
    "ioman = ROOT.FairRootManager.Instance()\n",
    "source = ROOT.FairFileSource(f)\n",
    "ioman.SetSource(source)\n",
    "#run.SetSource(source)\n",
    "outFile = ROOT.TMemFile('dummy','CREATE')\n",
    "sink = ROOT.FairRootFileSink(outFile)\n",
    "ioman.SetSink(sink)\n",
    "#run.SetSink(sink)\n",
    "# Add all task you'd like to run\n",
    "run.AddTask(trackTask)\n",
    "# Initialize the task collection(Fair run)\n",
    "run.Init()\n",
    "\n",
    "#avoiding some error messages\n",
    "xrdb = ROOT.FairRuntimeDb.instance()\n",
    "xrdb.getContainer(\"FairBaseParSet\").setStatic()\n",
    "xrdb.getContainer(\"FairGeoParSet\").setStatic()"
   ]
  },
  {
   "cell_type": "code",
   "execution_count": null,
   "id": "2044a5a1-5ba2-47aa-8cf0-69c74a1259d4",
   "metadata": {},
   "outputs": [],
   "source": [
    "for i, event in enumerate(ioman.GetInTree()):\n",
    "    if i>10: break\n",
    "    trackTask.clusScifi.Clear()\n",
    "    trackTask.scifiCluster()# call the clusterization, clusters will be saved in trackTask.clusScifi\n",
    "    print(\"Event number\", i)\n",
    "    for n, aCluster in enumerate(trackTask.clusScifi):\n",
    "        print(\"cluster\", n, aCluster.GetN())\n",
    "        # Get position of the cluster.\n",
    "        # One uses aCluster.GetPosition that returns average XYZ coordinates over hits used to make this cluster\n",
    "        aCluster.GetPosition(A, B)# no detID needed here!\n",
    "        print(\"cluster {}, {}, {}\".format(A.x(),A.y(),A.z()))\n",
    "        # lets see the position of the hit having the fastest signal in this cluster of hits\n",
    "        scifi_det.GetSiPMPosition(aCluster.GetFirst(),A,B) # \n",
    "        print(aCluster.GetFirst())\n",
    "        print(\"fast hit A(left/top) {}, {}, {}\".format(A.x(),A.y(),A.z()))\n",
    "        print(\"fast hit B(right/bottom) {}, {}, {}\".format(B.x(),B.y(),B.z()))"
   ]
  },
  {
   "cell_type": "code",
   "execution_count": null,
   "id": "5c90e7d9-16fd-4e33-a58c-14ddaaaa310f",
   "metadata": {},
   "outputs": [],
   "source": []
  }
 ],
 "metadata": {
  "kernelspec": {
   "display_name": "Python 3",
   "language": "python",
   "name": "python3"
  },
  "language_info": {
   "codemirror_mode": {
    "name": "ipython",
    "version": 3
   },
   "file_extension": ".py",
   "mimetype": "text/x-python",
   "name": "python",
   "nbconvert_exporter": "python",
   "pygments_lexer": "ipython3",
   "version": "3.9.12"
  }
 },
 "nbformat": 4,
 "nbformat_minor": 5
}
