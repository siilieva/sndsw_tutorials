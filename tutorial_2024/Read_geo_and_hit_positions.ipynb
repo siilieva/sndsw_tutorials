{
 "cells": [
  {
   "cell_type": "code",
   "execution_count": 1,
   "id": "9dfef022-cfbf-4c98-9f8c-174c2ebd0ef0",
   "metadata": {},
   "outputs": [
    {
     "name": "stdout",
     "output_type": "stream",
     "text": [
      "Welcome to JupyROOT 6.28/04\n"
     ]
    }
   ],
   "source": [
    "import ROOT\n",
    "import SndlhcGeo\n",
    "import shipunit as u"
   ]
  },
  {
   "cell_type": "code",
   "execution_count": 2,
   "id": "0d338fd7-082a-4855-b955-e60bf118df37",
   "metadata": {
    "scrolled": true
   },
   "outputs": [
    {
     "name": "stdout",
     "output_type": "stream",
     "text": [
      "using geofile: root://eospublic.cern.ch//eos/experiment/sndlhc/convertedData/physics/2024/run_245/geofile_sndlhc_TI18_V5_2024.root\n"
     ]
    },
    {
     "name": "stderr",
     "output_type": "stream",
     "text": [
      "Info in <TGeoManager::CloseGeometry>: Geometry loaded from file...\n",
      "Info in <TGeoManager::SetTopVolume>: Top volume is cave. Master volume is cave\n",
      "Info in <TGeoNavigator::BuildCache>: --- Maximum geometry depth set to 100\n",
      "Info in <TGeoManager::Voxelize>: Voxelizing...\n",
      "Info in <TGeoManager::CountLevels>: max level = 7, max placements = 2829\n",
      "Info in <TGeoManager::CloseGeometry>: 342545 nodes/ 84 volume UID's in FAIR geometry\n",
      "Info in <TGeoManager::CloseGeometry>: ----------------modeler ready----------------\n"
     ]
    }
   ],
   "source": [
    "geo = SndlhcGeo.GeoInterface(\"/eos/experiment/sndlhc/convertedData/physics/2024/run_245/geofile_sndlhc_TI18_V5_2024.root\")"
   ]
  },
  {
   "cell_type": "markdown",
   "id": "00b52777-3c8e-43b6-b4c9-6586810898b2",
   "metadata": {},
   "source": [
    "The detector objects are accessible through the ROOT's ListOfGlobals."
   ]
  },
  {
   "cell_type": "code",
   "execution_count": 3,
   "id": "2e934c57-eb87-4e9a-8696-f8e374245d9e",
   "metadata": {},
   "outputs": [],
   "source": [
    "lsOfGlobals = ROOT.gROOT.GetListOfGlobals()\n",
    "lsOfGlobals.Add(geo.modules['Scifi'])\n",
    "lsOfGlobals.Add(geo.modules['MuFilter'])"
   ]
  },
  {
   "cell_type": "markdown",
   "id": "665f374e-8a83-4866-90d0-06d5568c6ceb",
   "metadata": {},
   "source": [
    "SND detectors can be *read* as python dictionaries thanks to the SndlhcGeo module."
   ]
  },
  {
   "cell_type": "code",
   "execution_count": 4,
   "id": "6db68b94-63ce-4e4e-a051-d79f9475e62c",
   "metadata": {},
   "outputs": [],
   "source": [
    "scifi = geo.snd_geo.Scifi\n",
    "mufi= geo.snd_geo.MuFilter"
   ]
  },
  {
   "cell_type": "code",
   "execution_count": 5,
   "id": "b69759a8-3350-48ae-8b96-b7fa0dff62ce",
   "metadata": {},
   "outputs": [
    {
     "name": "stdout",
     "output_type": "stream",
     "text": [
      "Size of a Veto3 bar 5.94, 46.0, 1.0\n"
     ]
    }
   ],
   "source": [
    "print(\"Size of a Veto3 bar {}, {}, {}\".format(mufi.Veto3BarX/u.cm, mufi.Veto3BarY/u.cm, mufi.Veto3BarZ/u.cm))"
   ]
  },
  {
   "cell_type": "markdown",
   "id": "726b2577-0680-49e2-94d1-b265396a34e5",
   "metadata": {},
   "source": [
    "Why is the Y coordinate the largest 46.0 cm?\n",
    "Which is the coordinate system, where dimensions are defined? \n",
    "The survey or the physics one?\n",
    "Survey coordinate system is used to store the detector attributes - sizes etc.\n",
    "The transformation to the physics CS is applied in the sw!"
   ]
  },
  {
   "cell_type": "markdown",
   "id": "8a591856-bdb7-4ed2-bc29-576c5449c88b",
   "metadata": {},
   "source": [
    "Inspect the contents of the detector objects, see what keys there exist.\n",
    "Keys featuring 4 digits( the run numbers) denote the spatial and time alignment constants!"
   ]
  },
  {
   "cell_type": "code",
   "execution_count": 6,
   "id": "3ee3f4f7-6f6b-46ce-a0b6-93bd87ff5615",
   "metadata": {},
   "outputs": [
    {
     "data": {
      "text/plain": [
       "dict_keys(['z', 'xdim', 'ydim', 'zdim', 'DZ', 'nmats', 'nscifi', 'channel_width', 'sipm_edge', 'charr_gap', 'charr_width', 'sipm_diegap', 'SiPMarray_width', 'nsipm_channels', 'nsipm_mat', 'nsipms', 'sipmarr_width', 'firstChannelX', 'nfibers_shortrow', 'nfibers_longrow', 'nfibers_z', 'scifimat_width', 'scifimat_length', 'scifimat_z', 'epoxymat_z', 'scifimat_gap', 'fiber_length', 'scintcore_rmax', 'clad1_rmin', 'clad1_rmax', 'clad2_rmin', 'clad2_rmax', 'horizontal_pitch', 'vertical_pitch', 'rowlong_offset', 'rowshort_offset', 'carbonfiber_z', 'honeycomb_z', 'plastbar_x', 'plastbar_y', 'plastbar_z', 'scifi_separation', 'offset_z', 'timeResol', 'Xpos0', 'Ypos0', 'Zpos0', 'Xpos1', 'Ypos1', 'Zpos1', 'Xpos2', 'Ypos2', 'Zpos2', 'Xpos3', 'Ypos3', 'Zpos3', 'Xpos4', 'Ypos4', 'Zpos4', 'EdgeAX', 'EdgeAY', 'EdgeAZ', 'FirstChannelVX', 'FirstChannelVY', 'FirstChannelVZ', 'FirstChannelHX', 'FirstChannelHY', 'FirstChannelHZ', 'LfirstChannelVX', 'LfirstChannelVY', 'LfirstChannelVZ', 'LfirstChannelHX', 'LfirstChannelHY', 'LfirstChannelHZ', 'LocM100', 'LocM101', 'LocM102', 'LocM110', 'LocM111', 'LocM112', 'LocM200', 'LocM201', 'LocM202', 'LocM210', 'LocM211', 'LocM212', 'LocM300', 'LocM301', 'LocM302', 'LocM310', 'LocM311', 'LocM312', 'LocM400', 'LocM401', 'LocM402', 'LocM410', 'LocM411', 'LocM412', 'LocM500', 'LocM501', 'LocM502', 'LocM510', 'LocM511', 'LocM512', 'RotPhiS1', 'RotPsiS1', 'RotThetaS1', 'RotPhiS2', 'RotPsiS2', 'RotThetaS2', 'RotPhiS3', 'RotPsiS3', 'RotThetaS3', 'RotPhiS4', 'RotPsiS4', 'RotThetaS4', 'RotPhiS5', 'RotPsiS5', 'RotThetaS5', 'signalSpeed', 'station1t', 'station1H0t', 'station1H1t', 'station1H2t', 'station1V0t', 'station1V1t', 'station1V2t', 'station2t', 'station2H0t', 'station2H1t', 'station2H2t', 'station2V0t', 'station2V1t', 'station2V2t', 'station3t', 'station3H0t', 'station3H1t', 'station3H2t', 'station3V0t', 'station3V1t', 'station3V2t', 'station4t', 'station4H0t', 'station4H1t', 'station4H2t', 'station4V0t', 'station4V1t', 'station4V2t', 'station5t', 'station5H0t', 'station5H1t', 'station5H2t', 'station5V0t', 'station5V1t', 'station5V2t', 'station1t_0', 'station1H0t_0', 'station1H1t_0', 'station1H2t_0', 'station1V0t_0', 'station1V1t_0', 'station1V2t_0', 'station2t_0', 'station2H0t_0', 'station2H1t_0', 'station2H2t_0', 'station2V0t_0', 'station2V1t_0', 'station2V2t_0', 'station3t_0', 'station3H0t_0', 'station3H1t_0', 'station3H2t_0', 'station3V0t_0', 'station3V1t_0', 'station3V2t_0', 'station4t_0', 'station4H0t_0', 'station4H1t_0', 'station4H2t_0', 'station4V0t_0', 'station4V1t_0', 'station4V2t_0', 'station5t_0', 'station5H0t_0', 'station5H1t_0', 'station5H2t_0', 'station5V0t_0', 'station5V1t_0', 'station5V2t_0', 'station1t_7649', 'station1H0t_7649', 'station1H1t_7649', 'station1H2t_7649', 'station1V0t_7649', 'station1V1t_7649', 'station1V2t_7649', 'station2t_7649', 'station2H0t_7649', 'station2H1t_7649', 'station2H2t_7649', 'station2V0t_7649', 'station2V1t_7649', 'station2V2t_7649', 'station3t_7649', 'station3H0t_7649', 'station3H1t_7649', 'station3H2t_7649', 'station3V0t_7649', 'station3V1t_7649', 'station3V2t_7649', 'station4t_7649', 'station4H0t_7649', 'station4H1t_7649', 'station4H2t_7649', 'station4V0t_7649', 'station4V1t_7649', 'station4V2t_7649', 'station5t_7649', 'station5H0t_7649', 'station5H1t_7649', 'station5H2t_7649', 'station5V0t_7649', 'station5V1t_7649', 'station5V2t_7649', 'station1t_8318', 'station1H0t_8318', 'station1H1t_8318', 'station1H2t_8318', 'station1V0t_8318', 'station1V1t_8318', 'station1V2t_8318', 'station2t_8318', 'station2H0t_8318', 'station2H1t_8318', 'station2H2t_8318', 'station2V0t_8318', 'station2V1t_8318', 'station2V2t_8318', 'station3t_8318', 'station3H0t_8318', 'station3H1t_8318', 'station3H2t_8318', 'station3V0t_8318', 'station3V1t_8318', 'station3V2t_8318', 'station4t_8318', 'station4H0t_8318', 'station4H1t_8318', 'station4H2t_8318', 'station4V0t_8318', 'station4V1t_8318', 'station4V2t_8318', 'station5t_8318', 'station5H0t_8318', 'station5H1t_8318', 'station5H2t_8318', 'station5V0t_8318', 'station5V1t_8318', 'station5V2t_8318', 'station1t_8583', 'station1H0t_8583', 'station1H1t_8583', 'station1H2t_8583', 'station1V0t_8583', 'station1V1t_8583', 'station1V2t_8583', 'station2t_8583', 'station2H0t_8583', 'station2H1t_8583', 'station2H2t_8583', 'station2V0t_8583', 'station2V1t_8583', 'station2V2t_8583', 'station3t_8583', 'station3H0t_8583', 'station3H1t_8583', 'station3H2t_8583', 'station3V0t_8583', 'station3V1t_8583', 'station3V2t_8583', 'station4t_8583', 'station4H0t_8583', 'station4H1t_8583', 'station4H2t_8583', 'station4V0t_8583', 'station4V1t_8583', 'station4V2t_8583', 'station5t_8583', 'station5H0t_8583', 'station5H1t_8583', 'station5H2t_8583', 'station5V0t_8583', 'station5V1t_8583', 'station5V2t_8583', 'station1t_8942', 'station1H0t_8942', 'station1H1t_8942', 'station1H2t_8942', 'station1V0t_8942', 'station1V1t_8942', 'station1V2t_8942', 'station2t_8942', 'station2H0t_8942', 'station2H1t_8942', 'station2H2t_8942', 'station2V0t_8942', 'station2V1t_8942', 'station2V2t_8942', 'station3t_8942', 'station3H0t_8942', 'station3H1t_8942', 'station3H2t_8942', 'station3V0t_8942', 'station3V1t_8942', 'station3V2t_8942', 'station4t_8942', 'station4H0t_8942', 'station4H1t_8942', 'station4H2t_8942', 'station4V0t_8942', 'station4V1t_8942', 'station4V2t_8942', 'station5t_8942', 'station5H0t_8942', 'station5H1t_8942', 'station5H2t_8942', 'station5V0t_8942', 'station5V1t_8942', 'station5V2t_8942', 'station1t_9156', 'station1H0t_9156', 'station1H1t_9156', 'station1H2t_9156', 'station1V0t_9156', 'station1V1t_9156', 'station1V2t_9156', 'station2t_9156', 'station2H0t_9156', 'station2H1t_9156', 'station2H2t_9156', 'station2V0t_9156', 'station2V1t_9156', 'station2V2t_9156', 'station3t_9156', 'station3H0t_9156', 'station3H1t_9156', 'station3H2t_9156', 'station3V0t_9156', 'station3V1t_9156', 'station3V2t_9156', 'station4t_9156', 'station4H0t_9156', 'station4H1t_9156', 'station4H2t_9156', 'station4V0t_9156', 'station4V1t_9156', 'station4V2t_9156', 'station5t_9156', 'station5H0t_9156', 'station5H1t_9156', 'station5H2t_9156', 'station5V0t_9156', 'station5V1t_9156', 'station5V2t_9156', 'LocM100t_0', 'LocM101t_0', 'LocM102t_0', 'LocM110t_0', 'LocM111t_0', 'LocM112t_0', 'LocM200t_0', 'LocM201t_0', 'LocM202t_0', 'LocM210t_0', 'LocM211t_0', 'LocM212t_0', 'LocM300t_0', 'LocM301t_0', 'LocM302t_0', 'LocM310t_0', 'LocM311t_0', 'LocM312t_0', 'LocM400t_0', 'LocM401t_0', 'LocM402t_0', 'LocM410t_0', 'LocM411t_0', 'LocM412t_0', 'LocM500t_0', 'LocM501t_0', 'LocM502t_0', 'LocM510t_0', 'LocM511t_0', 'LocM512t_0', 'RotPhiS1t_0', 'RotPsiS1t_0', 'RotThetaS1t_0', 'RotPhiS2t_0', 'RotPsiS2t_0', 'RotThetaS2t_0', 'RotPhiS3t_0', 'RotPsiS3t_0', 'RotThetaS3t_0', 'RotPhiS4t_0', 'RotPsiS4t_0', 'RotThetaS4t_0', 'RotPhiS5t_0', 'RotPsiS5t_0', 'RotThetaS5t_0', 'LocM100t_7649', 'LocM101t_7649', 'LocM102t_7649', 'LocM110t_7649', 'LocM111t_7649', 'LocM112t_7649', 'LocM200t_7649', 'LocM201t_7649', 'LocM202t_7649', 'LocM210t_7649', 'LocM211t_7649', 'LocM212t_7649', 'LocM300t_7649', 'LocM301t_7649', 'LocM302t_7649', 'LocM310t_7649', 'LocM311t_7649', 'LocM312t_7649', 'LocM400t_7649', 'LocM401t_7649', 'LocM402t_7649', 'LocM410t_7649', 'LocM411t_7649', 'LocM412t_7649', 'LocM500t_7649', 'LocM501t_7649', 'LocM502t_7649', 'LocM510t_7649', 'LocM511t_7649', 'LocM512t_7649', 'RotPhiS1t_7649', 'RotPsiS1t_7649', 'RotThetaS1t_7649', 'RotPhiS2t_7649', 'RotPsiS2t_7649', 'RotThetaS2t_7649', 'RotPhiS3t_7649', 'RotPsiS3t_7649', 'RotThetaS3t_7649', 'RotPhiS4t_7649', 'RotPsiS4t_7649', 'RotThetaS4t_7649', 'RotPhiS5t_7649', 'RotPsiS5t_7649', 'RotThetaS5t_7649', 'LocM100t_8318', 'LocM101t_8318', 'LocM102t_8318', 'LocM110t_8318', 'LocM111t_8318', 'LocM112t_8318', 'LocM200t_8318', 'LocM201t_8318', 'LocM202t_8318', 'LocM210t_8318', 'LocM211t_8318', 'LocM212t_8318', 'LocM300t_8318', 'LocM301t_8318', 'LocM302t_8318', 'LocM310t_8318', 'LocM311t_8318', 'LocM312t_8318', 'LocM400t_8318', 'LocM401t_8318', 'LocM402t_8318', 'LocM410t_8318', 'LocM411t_8318', 'LocM412t_8318', 'LocM500t_8318', 'LocM501t_8318', 'LocM502t_8318', 'LocM510t_8318', 'LocM511t_8318', 'LocM512t_8318', 'RotPhiS1t_8318', 'RotPsiS1t_8318', 'RotThetaS1t_8318', 'RotPhiS2t_8318', 'RotPsiS2t_8318', 'RotThetaS2t_8318', 'RotPhiS3t_8318', 'RotPsiS3t_8318', 'RotThetaS3t_8318', 'RotPhiS4t_8318', 'RotPsiS4t_8318', 'RotThetaS4t_8318', 'RotPhiS5t_8318', 'RotPsiS5t_8318', 'RotThetaS5t_8318', 'LocM100t_8583', 'LocM101t_8583', 'LocM102t_8583', 'LocM110t_8583', 'LocM111t_8583', 'LocM112t_8583', 'LocM200t_8583', 'LocM201t_8583', 'LocM202t_8583', 'LocM210t_8583', 'LocM211t_8583', 'LocM212t_8583', 'LocM300t_8583', 'LocM301t_8583', 'LocM302t_8583', 'LocM310t_8583', 'LocM311t_8583', 'LocM312t_8583', 'LocM400t_8583', 'LocM401t_8583', 'LocM402t_8583', 'LocM410t_8583', 'LocM411t_8583', 'LocM412t_8583', 'LocM500t_8583', 'LocM501t_8583', 'LocM502t_8583', 'LocM510t_8583', 'LocM511t_8583', 'LocM512t_8583', 'RotPhiS1t_8583', 'RotPsiS1t_8583', 'RotThetaS1t_8583', 'RotPhiS2t_8583', 'RotPsiS2t_8583', 'RotThetaS2t_8583', 'RotPhiS3t_8583', 'RotPsiS3t_8583', 'RotThetaS3t_8583', 'RotPhiS4t_8583', 'RotPsiS4t_8583', 'RotThetaS4t_8583', 'RotPhiS5t_8583', 'RotPsiS5t_8583', 'RotThetaS5t_8583', 'LocM100t_8942', 'LocM101t_8942', 'LocM102t_8942', 'LocM110t_8942', 'LocM111t_8942', 'LocM112t_8942', 'LocM200t_8942', 'LocM201t_8942', 'LocM202t_8942', 'LocM210t_8942', 'LocM211t_8942', 'LocM212t_8942', 'LocM300t_8942', 'LocM301t_8942', 'LocM302t_8942', 'LocM310t_8942', 'LocM311t_8942', 'LocM312t_8942', 'LocM400t_8942', 'LocM401t_8942', 'LocM402t_8942', 'LocM410t_8942', 'LocM411t_8942', 'LocM412t_8942', 'LocM500t_8942', 'LocM501t_8942', 'LocM502t_8942', 'LocM510t_8942', 'LocM511t_8942', 'LocM512t_8942', 'RotPhiS1t_8942', 'RotPsiS1t_8942', 'RotThetaS1t_8942', 'RotPhiS2t_8942', 'RotPsiS2t_8942', 'RotThetaS2t_8942', 'RotPhiS3t_8942', 'RotPsiS3t_8942', 'RotThetaS3t_8942', 'RotPhiS4t_8942', 'RotPsiS4t_8942', 'RotThetaS4t_8942', 'RotPhiS5t_8942', 'RotPsiS5t_8942', 'RotThetaS5t_8942', 'LocM100t_9156', 'LocM101t_9156', 'LocM102t_9156', 'LocM110t_9156', 'LocM111t_9156', 'LocM112t_9156', 'LocM200t_9156', 'LocM201t_9156', 'LocM202t_9156', 'LocM210t_9156', 'LocM211t_9156', 'LocM212t_9156', 'LocM300t_9156', 'LocM301t_9156', 'LocM302t_9156', 'LocM310t_9156', 'LocM311t_9156', 'LocM312t_9156', 'LocM400t_9156', 'LocM401t_9156', 'LocM402t_9156', 'LocM410t_9156', 'LocM411t_9156', 'LocM412t_9156', 'LocM500t_9156', 'LocM501t_9156', 'LocM502t_9156', 'LocM510t_9156', 'LocM511t_9156', 'LocM512t_9156', 'RotPhiS1t_9156', 'RotPsiS1t_9156', 'RotThetaS1t_9156', 'RotPhiS2t_9156', 'RotPsiS2t_9156', 'RotThetaS2t_9156', 'RotPhiS3t_9156', 'RotPsiS3t_9156', 'RotThetaS3t_9156', 'RotPhiS4t_9156', 'RotPsiS4t_9156', 'RotThetaS4t_9156', 'RotPhiS5t_9156', 'RotPsiS5t_9156', 'RotThetaS5t_9156'])"
      ]
     },
     "execution_count": 6,
     "metadata": {},
     "output_type": "execute_result"
    }
   ],
   "source": [
    "scifi.keys()"
   ]
  },
  {
   "cell_type": "code",
   "execution_count": 7,
   "id": "a5814ee4-b93c-40f9-a5b1-ffce9b913487",
   "metadata": {},
   "outputs": [
    {
     "data": {
      "text/plain": [
       "(3.9299999999999997, 298.96999999999997, 15.82)"
      ]
     },
     "execution_count": 7,
     "metadata": {},
     "output_type": "execute_result"
    }
   ],
   "source": [
    "scifi.Xpos0, scifi.Ypos0, scifi.Zpos0"
   ]
  },
  {
   "cell_type": "code",
   "execution_count": 8,
   "id": "ee6bd317-7256-436d-9e6c-b01a2f7f75db",
   "metadata": {},
   "outputs": [
    {
     "data": {
      "text/plain": [
       "dict_keys(['z', 'Veto1Dx', 'Veto1Dy', 'Veto1Dz', 'Veto2Dx', 'Veto2Dy', 'Veto2Dz', 'Veto3Dx', 'Veto3Dy', 'Veto3Dz', 'Iron1Dx', 'Iron1Dy', 'Iron1Dz', 'Muon1Dx', 'Muon1Dy', 'Muon1Dz', 'Iron2Dx', 'Iron2Dy', 'Iron2Dz', 'Muon2Dx', 'Muon2Dy', 'Muon2Dz', 'Iron3Dx', 'Iron3Dy', 'Iron3Dz', 'Muon3Dx', 'Muon3Dy', 'Muon3Dz', 'Iron4Dx', 'Iron4Dy', 'Iron4Dz', 'Muon4Dx', 'Muon4Dy', 'Muon4Dz', 'Iron5Dx', 'Iron5Dy', 'Iron5Dz', 'Muon5Dx', 'Muon5Dy', 'Muon5Dz', 'Iron6Dx', 'Iron6Dy', 'Iron6Dz', 'Muon6Dx', 'Muon6Dy', 'Muon6Dz', 'Iron7Dx', 'Iron7Dy', 'Iron7Dz', 'Muon7Dx', 'Muon7Dy', 'Muon7Dz', 'Iron8Dx', 'Iron8Dy', 'Iron8Dz', 'Muon8Dx', 'Muon8Dy', 'Muon8Dz', 'DS4ZGap', 'Muon9Dx', 'Muon9Dy', 'Muon9Dz', 'Iron9Dx', 'Iron9Dy', 'Iron9Dz', 'VETOLocX', 'VETOLocY', 'VETOLocZ', 'DSHLocX', 'DSHLocY', 'DSHLocZ', 'DSVLocX', 'DSVLocY', 'DSVLocZ', 'USOffZ1', 'USOffZ2', 'USOffZ3', 'USOffZ4', 'USOffZ5', 'VetonSiPMs', 'VetonSides', 'NVetoPlanes', 'NVetoBars', 'VetoBarX', 'VetoBarY', 'VetoBarZ', 'Veto3BarX', 'Veto3BarY', 'Veto3BarZ', 'VetoBarGap', 'FeX', 'FeY', 'FeZ', 'FeEndX', 'FeEndY', 'FeEndZ', 'FeBotX', 'FeBotY', 'FeBotZ', 'UpstreamDetZ', 'UpstreamnSiPMs', 'UpstreamnSides', 'NUpstreamPlanes', 'DownstreamDetZ', 'DownstreamnSiPMs', 'DownstreamnSides', 'NDownstreamPlanes', 'NUpstreamBars', 'UpstreamBarX', 'UpstreamBarY', 'UpstreamBarZ', 'UpstreamBarGap', 'NDownstreamBars', 'DownstreamBarX', 'DownstreamBarY', 'DownstreamBarZ', 'DownstreamBarGap', 'DownstreamBarX_ver', 'DownstreamBarY_ver', 'DownstreamBarZ_ver', 'SupportBoxD', 'SupportBoxW', 'DSBoxX1', 'DSBoxX2', 'DSBoxZ1', 'DSBoxZ2', 'DSBoxY1', 'DSBoxY2', 'USBoxY1', 'USBoxY2', 'SupportBoxVW', 'SupportBoxVDH', 'SupportBoxVB3', 'VETOBoxX1', 'VETOBoxX2', 'VETOBoxX3', 'VETOBoxX4', 'VETOBoxZ1', 'VETOBoxZ2', 'VETOBoxZ3', 'VETOBoxZ4', 'VETOBoxY1', 'VETOBoxY2', 'VETOBoxY3', 'VETOBoxY4', 'Veto1ShiftY', 'Veto2ShiftY', 'Veto3ShiftX', 'US1ShiftY', 'US2ShiftY', 'US3ShiftY', 'US4ShiftY', 'US5ShiftY', 'DS1ShiftY', 'DS1ShiftX', 'DS2ShiftY', 'DS2ShiftX', 'DS3ShiftY', 'DS3ShiftX', 'DS4ShiftX', 'DsAttenuationLength', 'DsTAttenuationLength', 'VandUpAttenuationLength', 'VandUpSiPMcalibrationL', 'VandUpSiPMcalibrationS', 'DsSiPMcalibration', 'timeResol', 'VandUpPropSpeed', 'DsPropSpeed', 'DSTcorslopet_0', 'DSTcorC0t_0', 'DSTcorC1t_0', 'DSTcorC2t_0', 'DSTcorC3t_0', 'DSTcorC4t_0', 'DSTcorC5t_0', 'DSTcorC6t_0', 'DSTcorC7t_0', 'DSTcorC8t_0', 'DSTcorC9t_0', 'DSTcorC10t_0', 'DSTcorC11t_0', 'DSTcorC12t_0', 'DSTcorC13t_0', 'DSTcorC14t_0', 'DSTcorC15t_0', 'DSTcorC16t_0', 'DSTcorC17t_0', 'DSTcorC18t_0', 'DSTcorC19t_0', 'DSTcorslopet_7649', 'DSTcorC0t_7649', 'DSTcorC1t_7649', 'DSTcorC2t_7649', 'DSTcorC3t_7649', 'DSTcorC4t_7649', 'DSTcorC5t_7649', 'DSTcorC6t_7649', 'DSTcorC7t_7649', 'DSTcorC8t_7649', 'DSTcorC9t_7649', 'DSTcorC10t_7649', 'DSTcorC11t_7649', 'DSTcorC12t_7649', 'DSTcorC13t_7649', 'DSTcorC14t_7649', 'DSTcorC15t_7649', 'DSTcorC16t_7649', 'DSTcorC17t_7649', 'DSTcorC18t_7649', 'DSTcorC19t_7649', 'DSTcorslopet_8318', 'DSTcorC0t_8318', 'DSTcorC1t_8318', 'DSTcorC2t_8318', 'DSTcorC3t_8318', 'DSTcorC4t_8318', 'DSTcorC5t_8318', 'DSTcorC6t_8318', 'DSTcorC7t_8318', 'DSTcorC8t_8318', 'DSTcorC9t_8318', 'DSTcorC10t_8318', 'DSTcorC11t_8318', 'DSTcorC12t_8318', 'DSTcorC13t_8318', 'DSTcorC14t_8318', 'DSTcorC15t_8318', 'DSTcorC16t_8318', 'DSTcorC17t_8318', 'DSTcorC18t_8318', 'DSTcorC19t_8318', 'DSTcorslopet_8583', 'DSTcorC0t_8583', 'DSTcorC1t_8583', 'DSTcorC2t_8583', 'DSTcorC3t_8583', 'DSTcorC4t_8583', 'DSTcorC5t_8583', 'DSTcorC6t_8583', 'DSTcorC7t_8583', 'DSTcorC8t_8583', 'DSTcorC9t_8583', 'DSTcorC10t_8583', 'DSTcorC11t_8583', 'DSTcorC12t_8583', 'DSTcorC13t_8583', 'DSTcorC14t_8583', 'DSTcorC15t_8583', 'DSTcorC16t_8583', 'DSTcorC17t_8583', 'DSTcorC18t_8583', 'DSTcorC19t_8583', 'DSTcorslopet_8942', 'DSTcorC0t_8942', 'DSTcorC1t_8942', 'DSTcorC2t_8942', 'DSTcorC3t_8942', 'DSTcorC4t_8942', 'DSTcorC5t_8942', 'DSTcorC6t_8942', 'DSTcorC7t_8942', 'DSTcorC8t_8942', 'DSTcorC9t_8942', 'DSTcorC10t_8942', 'DSTcorC11t_8942', 'DSTcorC12t_8942', 'DSTcorC13t_8942', 'DSTcorC14t_8942', 'DSTcorC15t_8942', 'DSTcorC16t_8942', 'DSTcorC17t_8942', 'DSTcorC18t_8942', 'DSTcorC19t_8942', 'DSTcorslopet_9156', 'DSTcorC0t_9156', 'DSTcorC1t_9156', 'DSTcorC2t_9156', 'DSTcorC3t_9156', 'DSTcorC4t_9156', 'DSTcorC5t_9156', 'DSTcorC6t_9156', 'DSTcorC7t_9156', 'DSTcorC8t_9156', 'DSTcorC9t_9156', 'DSTcorC10t_9156', 'DSTcorC11t_9156', 'DSTcorC12t_9156', 'DSTcorC13t_9156', 'DSTcorC14t_9156', 'DSTcorC15t_9156', 'DSTcorC16t_9156', 'DSTcorC17t_9156', 'DSTcorC18t_9156', 'DSTcorC19t_9156'])"
      ]
     },
     "execution_count": 8,
     "metadata": {},
     "output_type": "execute_result"
    }
   ],
   "source": [
    "mufi.keys() # items in the MuFilter detector object"
   ]
  },
  {
   "cell_type": "code",
   "execution_count": 9,
   "id": "aafe13a8-5163-49da-aae7-36c28f118dd3",
   "metadata": {},
   "outputs": [
    {
     "data": {
      "text/plain": [
       "(-4.66, 376.02, 12.86)"
      ]
     },
     "execution_count": 9,
     "metadata": {},
     "output_type": "execute_result"
    }
   ],
   "source": [
    "mufi.Muon1Dx, mufi.Muon1Dy, mufi.Muon1Dz # US1"
   ]
  },
  {
   "cell_type": "code",
   "execution_count": 10,
   "id": "bb2bfe2f-9f38-4a91-bfc4-0599e8c8f0ad",
   "metadata": {},
   "outputs": [
    {
     "data": {
      "text/plain": [
       "(-0.79, 548.49, 13.25)"
      ]
     },
     "execution_count": 10,
     "metadata": {},
     "output_type": "execute_result"
    }
   ],
   "source": [
    "mufi.Muon9Dx, mufi.Muon9Dy, mufi.Muon9Dz #DS4"
   ]
  },
  {
   "cell_type": "markdown",
   "id": "54385aec-f22d-4ed5-a54c-77fdf9d487bc",
   "metadata": {},
   "source": [
    "Lets now see how to access the detector elements through the measurements  - hits or clusters"
   ]
  },
  {
   "cell_type": "code",
   "execution_count": 11,
   "id": "638f3783-6b24-47d0-848f-6a3ad2bb368c",
   "metadata": {},
   "outputs": [],
   "source": [
    "f = ROOT.TFile(\"/eos/experiment/sndlhc/convertedData/physics/2024/run_245/run_009280/sndsw_raw-0010.root\")\n",
    "tree = f.rawConv\n",
    "# provide the event header to the detector object so to read the aligned geometry!\n",
    "tree.GetEvent(0)\n",
    "scifi_det=geo.modules['Scifi']\n",
    "scifi_det.InitEvent(tree.EventHeader)\n",
    "# beware it is not scifi.InitEvent(tree.EventHeader)\n",
    "# as scifi is just a dictionary!\n",
    "\n",
    "A,B=ROOT.TVector3(),ROOT.TVector3()\n",
    "\n",
    "for i, event in enumerate(tree):\n",
    "    if i >10: continue\n",
    "    for aHit in event.Digi_ScifiHits:\n",
    "        scifi_det.GetSiPMPosition(aHit.GetDetectorID(),A,B) # A is left(top) side and the B right/bottom one\n"
   ]
  },
  {
   "cell_type": "markdown",
   "id": "5ce4b89a-619b-45f9-8635-2754e01adea7",
   "metadata": {},
   "source": [
    "Add a task to make Scifi clusters and inspect their positions\n",
    "The task is actually the simple tracking (SndlhcTracking module)\n",
    "We need the FairRun"
   ]
  },
  {
   "cell_type": "code",
   "execution_count": 12,
   "id": "07b3999d-bce0-4790-94ae-a68d5795d9ff",
   "metadata": {},
   "outputs": [],
   "source": [
    "import SndlhcTracking\n",
    "trackTask = SndlhcTracking.Tracking()"
   ]
  },
  {
   "cell_type": "code",
   "execution_count": 13,
   "id": "b4fc59ec-63ce-4c96-bc5d-694e5380fd34",
   "metadata": {},
   "outputs": [
    {
     "name": "stdout",
     "output_type": "stream",
     "text": [
      "[INFO] The input consists out of the following trees and files: \n",
      "[INFO]  - cbmsim\n",
      "[INFO]     - /eos/experiment/sndlhc/convertedData/physics/2024/run_245/run_009280/sndsw_raw-0010.root\n",
      "[INFO] FairRootFileSink initialized.\n",
      "[INFO]  - cbmout_0\n",
      "[INFO]     - dummy\n",
      "[INFO] Parameter and input file are available, Assure that basic info is there for the run!\n",
      "[INFO] ---FairRootManager::SpecifyRunId --- \n",
      "[INFO] --- Initialize with RunId  --- 9280\n",
      "\n",
      "************************************************************* \n",
      "     initialisation for run id 9280\n",
      "************************************************************* \n",
      "-I- FairRunTimeDB::InitContainer() FairGeoParSet\n",
      "[ERROR] init() FairGeoParSet not initialized\n",
      "-I- FairRunTimeDB::InitContainer() FairBaseParSet\n",
      "[ERROR] init() FairBaseParSet not initialized\n",
      "\n",
      "************************************************************* \n",
      "     initialisation for run id 9280\n",
      "************************************************************* \n",
      "-I- FairRunTimeDB::InitContainer() FairGeoParSet\n",
      "[ERROR] init() FairGeoParSet not initialized\n",
      "-I- FairRunTimeDB::InitContainer() FairBaseParSet\n",
      "[ERROR] init() FairBaseParSet not initialized\n"
     ]
    },
    {
     "name": "stderr",
     "output_type": "stream",
     "text": [
      "Error in <FairRuntimeDb::initContainers()>: Error occured during initialization\n",
      "Error in <FairRuntimeDb::initContainers()>: Error occured during initialization\n",
      "Warning in <TTree::Bronch>: FairEventHeader cannot be split, resetting splitlevel to 0\n"
     ]
    }
   ],
   "source": [
    "run = ROOT.FairRunAna()\n",
    "# Input/output manager\n",
    "ioman = ROOT.FairRootManager.Instance()\n",
    "source = ROOT.FairFileSource(f)\n",
    "ioman.SetSource(source)\n",
    "#run.SetSource(source)\n",
    "outFile = ROOT.TMemFile('dummy','CREATE')\n",
    "sink = ROOT.FairRootFileSink(outFile)\n",
    "ioman.SetSink(sink)\n",
    "#run.SetSink(sink)\n",
    "# Add all task you'd like to run\n",
    "run.AddTask(trackTask)\n",
    "# Initialize the task collection(Fair run)\n",
    "run.Init()\n",
    "\n",
    "#avoiding some error messages\n",
    "xrdb = ROOT.FairRuntimeDb.instance()\n",
    "xrdb.getContainer(\"FairBaseParSet\").setStatic()\n",
    "xrdb.getContainer(\"FairGeoParSet\").setStatic()"
   ]
  },
  {
   "cell_type": "code",
   "execution_count": 14,
   "id": "2044a5a1-5ba2-47aa-8cf0-69c74a1259d4",
   "metadata": {},
   "outputs": [
    {
     "name": "stdout",
     "output_type": "stream",
     "text": [
      "TVector3 A 3D physics vector (x,y,z)=(-16.581031,14.833064,313.447141) (rho,theta,phi)=(314.235677,4.059864,138.184811)\n",
      "TVector3 A 3D physics vector (x,y,z)=(-16.581031,14.833064,313.447141) (rho,theta,phi)=(314.235677,4.059864,138.184811)\n",
      "TVector3 A 3D physics vector (x,y,z)=(-46.176202,37.815001,326.176332) (rho,theta,phi)=(331.591942,10.369365,140.684981)\n",
      "TVector3 A 3D physics vector (x,y,z)=(-46.176202,37.815001,326.176332) (rho,theta,phi)=(331.591942,10.369365,140.684981)\n",
      "TVector3 A 3D physics vector (x,y,z)=(-46.197889,42.155416,300.228291) (rho,theta,phi)=(306.673036,11.767012,137.619656)\n",
      "TVector3 A 3D physics vector (x,y,z)=(-46.197809,42.130806,300.227985) (rho,theta,phi)=(306.669342,11.763979,137.636266)\n",
      "TVector3 A 3D physics vector (x,y,z)=(-24.203558,14.927676,300.447934) (rho,theta,phi)=(301.790671,5.406812,148.335565)\n",
      "TVector3 A 3D physics vector (x,y,z)=(-24.216064,14.927635,300.447935) (rho,theta,phi)=(301.791673,5.408820,148.348857)\n",
      "TVector3 A 3D physics vector (x,y,z)=(-46.204530,42.086960,313.228450) (rho,theta,phi)=(319.402931,11.284194,137.670116)\n",
      "TVector3 A 3D physics vector (x,y,z)=(-46.204463,42.074747,313.228298) (rho,theta,phi)=(319.401163,11.282744,137.678353)\n",
      "TVector3 A 3D physics vector (x,y,z)=(-24.114026,14.791883,313.447248) (rho,theta,phi)=(314.721247,5.157102,148.474460)\n",
      "TVector3 A 3D physics vector (x,y,z)=(-24.114026,14.791883,313.447248) (rho,theta,phi)=(314.721247,5.157102,148.474460)\n",
      "TVector3 A 3D physics vector (x,y,z)=(-46.205018,42.029890,326.228749) (rho,theta,phi)=(332.154500,10.838946,137.709119)\n",
      "TVector3 A 3D physics vector (x,y,z)=(-46.205018,42.029890,326.228749) (rho,theta,phi)=(332.154500,10.838946,137.709119)\n",
      "TVector3 A 3D physics vector (x,y,z)=(-24.077852,14.643808,326.446413) (rho,theta,phi)=(327.660563,4.933963,148.692627)\n",
      "TVector3 A 3D physics vector (x,y,z)=(-24.090659,14.643720,326.446413) (rho,theta,phi)=(327.661500,4.935862,148.706305)\n",
      "TVector3 A 3D physics vector (x,y,z)=(-46.214992,41.959161,339.228880) (rho,theta,phi)=(344.924092,10.426300,137.763305)\n",
      "TVector3 A 3D physics vector (x,y,z)=(-46.214890,41.946655,339.228724) (rho,theta,phi)=(344.922405,10.424919,137.771742)\n",
      "TVector3 A 3D physics vector (x,y,z)=(-24.008785,14.495792,339.445576) (rho,theta,phi)=(340.602185,4.723134,148.877667)\n",
      "TVector3 A 3D physics vector (x,y,z)=(-24.008785,14.495792,339.445576) (rho,theta,phi)=(340.602185,4.723134,148.877667)\n",
      "TVector3 A 3D physics vector (x,y,z)=(-46.206770,41.917559,352.229371) (rho,theta,phi)=(357.711724,10.044094,137.786517)\n",
      "TVector3 A 3D physics vector (x,y,z)=(-46.206770,41.917559,352.229371) (rho,theta,phi)=(357.711724,10.044094,137.786517)\n",
      "TVector3 A 3D physics vector (x,y,z)=(-23.992022,14.354817,352.444830) (rho,theta,phi)=(353.552028,4.535622,149.107231)\n",
      "TVector3 A 3D physics vector (x,y,z)=(-24.004830,14.354710,352.444830) (rho,theta,phi)=(353.552893,4.537389,149.120889)\n"
     ]
    }
   ],
   "source": [
    "for i, event in enumerate(ioman.GetInTree()):\n",
    "    if i>10: break\n",
    "    trackTask.clusScifi.Clear('C')\n",
    "    trackTask.scifiCluster()\n",
    "    for aCluster in trackTask.clusScifi:\n",
    "        # Get position of the cluster.\n",
    "        # One uses aCluster.GetPosition that returns average XYZ coordinates over hits used to make this cluster\n",
    "        aCluster.GetPosition(A, B)# no detID needed here!\n",
    "        A.Print()\n",
    "        # lets see the position of the hit having the fastest signal in this cluster of hits\n",
    "        scifi_det.GetSiPMPosition(aCluster.GetFirst(),A,B) # \n",
    "        A.Print()"
   ]
  },
  {
   "cell_type": "code",
   "execution_count": null,
   "id": "cb1034fd-bbb0-4b71-86db-4572454b8eb3",
   "metadata": {},
   "outputs": [],
   "source": []
  }
 ],
 "metadata": {
  "kernelspec": {
   "display_name": "Python 3",
   "language": "python",
   "name": "python3"
  },
  "language_info": {
   "codemirror_mode": {
    "name": "ipython",
    "version": 3
   },
   "file_extension": ".py",
   "mimetype": "text/x-python",
   "name": "python",
   "nbconvert_exporter": "python",
   "pygments_lexer": "ipython3",
   "version": "3.9.12"
  }
 },
 "nbformat": 4,
 "nbformat_minor": 5
}
